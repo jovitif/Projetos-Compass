{
 "cells": [
  {
   "cell_type": "code",
   "execution_count": null,
   "metadata": {},
   "outputs": [],
   "source": [
    "import pandas as pd\n",
    "import numpy as np\n",
    "import matplotlib.pyplot as plt\n",
    "import seaborn as sns\n",
    "import boto3\n",
    "import sagemaker\n",
    "import os\n",
    "from sklearn.model_selection import train_test_split\n",
    "from sklearn.metrics import confusion_matrix, accuracy_score\n",
    "from sagemaker.amazon.common import write_numpy_to_dense_tensor\n",
    "from sagemaker.serializers import CSVSerializer\n",
    "from sagemaker.deserializers import JSONDeserializer\n",
    "from sagemaker import image_uris\n",
    "import xgboost as xgb\n",
    "import io\n",
    "import shutil"
   ]
  },
  {
   "cell_type": "code",
   "execution_count": null,
   "metadata": {},
   "outputs": [],
   "source": [
    "import boto3\n",
    "import joblib\n",
    "from io import BytesIO\n",
    "\n",
    "file = model_rf\n",
    "path = 's3://sprint-5-equipe-2'\n",
    "\n",
    "def write_joblib(file, path):\n",
    "    if path[:5] == 's3://':\n",
    "        s3_bucket, s3_key = path.split('/')[2], path.split('/')[3:]\n",
    "        s3_key = '/'.join(s3_key)\n",
    "        with BytesIO() as f:\n",
    "            joblib.dump(file, f)\n",
    "            f.seek(0)\n",
    "            boto3.client('s3').upload_fileobj(Bucket=s3_bucket, Key=s3_key, Fileobj=f)\n",
    "\n",
    "    else:\n",
    "        with open(path, 'wb') as f:\n",
    "            joblib.dump(file, f)\n",
    "\n",
    "write_joblib(file, path + '/model.joblib')"
   ]
  },
  {
   "cell_type": "code",
   "execution_count": null,
   "metadata": {},
   "outputs": [],
   "source": [
    "container = get_image_uri(sagemaker_session.boto_region_name, 'xgboost', 'latest')\n",
    "\n",
    "xgboost = sagemaker.estimator.Estimator(container,\n",
    "                                         role, \n",
    "                                         train_instance_count=1, \n",
    "                                         train_instance_type='ml.m4.xlarge',\n",
    "                                         output_path='s3://{}/{}/output'.format(bucket, prefix),\n",
    "                                         sagemaker_session=sagemaker_session)\n",
    "\n",
    "xgboost.set_hyperparameters(objective='multi:softmax',\n",
    "                            num_class=3,\n",
    "                            num_round=100)\n",
    "\n",
    "data_channels = {\n",
    "    'train': input_train,\n",
    "    'validation': input_test\n",
    "}\n",
    "\n",
    "xgboost.fit(data_channels)"
   ]
  }
 ],
 "metadata": {
  "language_info": {
   "name": "python"
  }
 },
 "nbformat": 4,
 "nbformat_minor": 2
}
